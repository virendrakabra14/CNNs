{
 "cells": [
  {
   "cell_type": "markdown",
   "metadata": {},
   "source": [
    "# CNN for 0-5 Digit Signs"
   ]
  },
  {
   "cell_type": "code",
   "execution_count": 1,
   "metadata": {},
   "outputs": [],
   "source": [
    "import numpy as np\n",
    "import h5py\n",
    "import matplotlib.pyplot as plt\n",
    "from PIL import Image\n",
    "import tensorflow as tf\n",
    "import tensorflow.keras.layers as tfl\n",
    "\n",
    "%matplotlib inline\n",
    "\n",
    "np.random.seed(1)"
   ]
  },
  {
   "cell_type": "markdown",
   "metadata": {},
   "source": [
    "### The Sequential API\n",
    "<ul>\n",
    "<li>Sequential layers are <i>ordered</i></li>\n",
    "<li><code>add</code> method : adds layers</li>\n",
    "<li><code>pop</code> method : removes layers</li>\n",
    "<li>Only single input, output handled (so, not as flexible as the Functional API)</li>\n",
    "</ul>"
   ]
  },
  {
   "cell_type": "markdown",
   "metadata": {},
   "source": [
    "### The Functional API\n",
    "<ul>\n",
    "<li>The Functional API can handle models with non-linear topology, multiple inputs and outputs (more flexible than the Sequential API)</li>\n",
    "<li>Both the Sequential and Functional APIs return a TF Keras model object</li>\n",
    "</ul>"
   ]
  },
  {
   "cell_type": "code",
   "execution_count": 3,
   "metadata": {},
   "outputs": [
    {
     "name": "stdout",
     "output_type": "stream",
     "text": [
      "classes [0 1 2 3 4 5]\n"
     ]
    }
   ],
   "source": [
    "def signs_dataset():\n",
    "    train_dataset = h5py.File('train_signs.h5', \"r\")\n",
    "    train_set_x_orig = np.array(train_dataset[\"train_set_x\"][:])\n",
    "    train_set_y_orig = np.array(train_dataset[\"train_set_y\"][:])\n",
    "\n",
    "    test_dataset = h5py.File('test_signs.h5', \"r\")\n",
    "    test_set_x_orig = np.array(test_dataset[\"test_set_x\"][:])\n",
    "    test_set_y_orig = np.array(test_dataset[\"test_set_y\"][:])\n",
    "\n",
    "    classes = np.array(test_dataset[\"list_classes\"][:])\n",
    "    \n",
    "    train_set_y_orig = train_set_y_orig.reshape((1, train_set_y_orig.shape[0]))\n",
    "    test_set_y_orig = test_set_y_orig.reshape((1, test_set_y_orig.shape[0]))\n",
    "    \n",
    "    return train_set_x_orig, train_set_y_orig, test_set_x_orig, test_set_y_orig, classes\n",
    "\n",
    "def convert_to_one_hot(Y, C):\n",
    "    Y = np.eye(C)[Y.reshape(-1)].T\n",
    "    return Y\n",
    "\n",
    "X_train_orig, Y_train_orig, X_test_orig, Y_test_orig, classes = signs_dataset()\n",
    "print('classes', classes)\n",
    "\n",
    "X_train = X_train_orig/255.\n",
    "X_test = X_test_orig/255.\n",
    "Y_train = convert_to_one_hot(Y_train_orig, 6).T\n",
    "Y_test = convert_to_one_hot(Y_test_orig, 6).T"
   ]
  },
  {
   "cell_type": "code",
   "execution_count": 4,
   "metadata": {
    "deletable": false,
    "nbgrader": {
     "cell_type": "code",
     "checksum": "f58643806aa8380c96225fc8b4c5e7aa",
     "grade": false,
     "grade_id": "cell-dac51744a9e03f51",
     "locked": false,
     "schema_version": 3,
     "solution": true,
     "task": false
    }
   },
   "outputs": [],
   "source": [
    "def convolutional_model(input_shape):\n",
    "\n",
    "    input_img = tf.keras.Input(shape=input_shape)\n",
    "\n",
    "    Z1 = tf.keras.layers.Conv2D(filters=8 , kernel_size=(4,4) , padding='same')(input_img)\n",
    "    A1 = tf.keras.layers.ReLU()(Z1)     # element-wise ReLU\n",
    "    P1 = tf.keras.layers.MaxPool2D(pool_size=(8,8), strides=(8,8), padding='same')(A1)\n",
    "    Z2 = tf.keras.layers.Conv2D(filters=16 , kernel_size=(2,2), strides=(1,1) , padding='same')(P1)\n",
    "    A2 = tf.keras.layers.ReLU()(Z2)\n",
    "    P2 = tf.keras.layers.MaxPool2D(pool_size=(4,4), strides=(4,4), padding='same')(A2)\n",
    "    F = tf.keras.layers.Flatten()(P2)\n",
    "    outputs = tf.keras.layers.Dense(units=6 , activation='softmax')(F)\n",
    "\n",
    "    return tf.keras.Model(inputs=input_img, outputs=outputs)        # model"
   ]
  },
  {
   "cell_type": "code",
   "execution_count": 5,
   "metadata": {
    "deletable": false,
    "editable": false,
    "nbgrader": {
     "cell_type": "code",
     "checksum": "483d626949930a0b0ef20997e7c6ba72",
     "grade": true,
     "grade_id": "cell-45d22e92042174c9",
     "locked": true,
     "points": 10,
     "schema_version": 3,
     "solution": false,
     "task": false
    }
   },
   "outputs": [
    {
     "name": "stdout",
     "output_type": "stream",
     "text": [
      "Model: \"model\"\n",
      "_________________________________________________________________\n",
      " Layer (type)                Output Shape              Param #   \n",
      "=================================================================\n",
      " input_1 (InputLayer)        [(None, 64, 64, 3)]       0         \n",
      "                                                                 \n",
      " conv2d (Conv2D)             (None, 64, 64, 8)         392       \n",
      "                                                                 \n",
      " re_lu (ReLU)                (None, 64, 64, 8)         0         \n",
      "                                                                 \n",
      " max_pooling2d (MaxPooling2D  (None, 8, 8, 8)          0         \n",
      " )                                                               \n",
      "                                                                 \n",
      " conv2d_1 (Conv2D)           (None, 8, 8, 16)          528       \n",
      "                                                                 \n",
      " re_lu_1 (ReLU)              (None, 8, 8, 16)          0         \n",
      "                                                                 \n",
      " max_pooling2d_1 (MaxPooling  (None, 2, 2, 16)         0         \n",
      " 2D)                                                             \n",
      "                                                                 \n",
      " flatten (Flatten)           (None, 64)                0         \n",
      "                                                                 \n",
      " dense (Dense)               (None, 6)                 390       \n",
      "                                                                 \n",
      "=================================================================\n",
      "Total params: 1,310\n",
      "Trainable params: 1,310\n",
      "Non-trainable params: 0\n",
      "_________________________________________________________________\n"
     ]
    }
   ],
   "source": [
    "conv_model = convolutional_model((64, 64, 3))\n",
    "# more than 2 classes, hence using \"categorical\" crossentropy\n",
    "# metrics for evaluation : \"accuracy\"\n",
    "conv_model.compile(optimizer='adam', loss='categorical_crossentropy', metrics=['accuracy'])\n",
    "conv_model.summary()"
   ]
  },
  {
   "cell_type": "code",
   "execution_count": 6,
   "metadata": {},
   "outputs": [
    {
     "name": "stdout",
     "output_type": "stream",
     "text": [
      "Epoch 1/100\n",
      "17/17 [==============================] - 1s 43ms/step - loss: 1.8328 - accuracy: 0.1583 - val_loss: 1.7893 - val_accuracy: 0.1583\n",
      "Epoch 2/100\n",
      "17/17 [==============================] - 1s 40ms/step - loss: 1.7930 - accuracy: 0.1407 - val_loss: 1.7840 - val_accuracy: 0.1917\n",
      "Epoch 3/100\n",
      "17/17 [==============================] - 1s 39ms/step - loss: 1.7872 - accuracy: 0.1870 - val_loss: 1.7810 - val_accuracy: 0.2167\n",
      "Epoch 4/100\n",
      "17/17 [==============================] - 1s 38ms/step - loss: 1.7830 - accuracy: 0.2130 - val_loss: 1.7760 - val_accuracy: 0.2250\n",
      "Epoch 5/100\n",
      "17/17 [==============================] - 1s 37ms/step - loss: 1.7787 - accuracy: 0.2398 - val_loss: 1.7711 - val_accuracy: 0.2583\n",
      "Epoch 6/100\n",
      "17/17 [==============================] - 1s 37ms/step - loss: 1.7737 - accuracy: 0.2722 - val_loss: 1.7649 - val_accuracy: 0.3417\n",
      "Epoch 7/100\n",
      "17/17 [==============================] - 1s 36ms/step - loss: 1.7679 - accuracy: 0.3065 - val_loss: 1.7564 - val_accuracy: 0.3333\n",
      "Epoch 8/100\n",
      "17/17 [==============================] - 1s 35ms/step - loss: 1.7601 - accuracy: 0.3037 - val_loss: 1.7476 - val_accuracy: 0.3917\n",
      "Epoch 9/100\n",
      "17/17 [==============================] - 1s 36ms/step - loss: 1.7506 - accuracy: 0.3593 - val_loss: 1.7362 - val_accuracy: 0.4417\n",
      "Epoch 10/100\n",
      "17/17 [==============================] - 1s 36ms/step - loss: 1.7388 - accuracy: 0.3657 - val_loss: 1.7222 - val_accuracy: 0.4333\n",
      "Epoch 11/100\n",
      "17/17 [==============================] - 1s 36ms/step - loss: 1.7246 - accuracy: 0.3787 - val_loss: 1.7061 - val_accuracy: 0.4083\n",
      "Epoch 12/100\n",
      "17/17 [==============================] - 1s 38ms/step - loss: 1.7075 - accuracy: 0.3852 - val_loss: 1.6869 - val_accuracy: 0.3917\n",
      "Epoch 13/100\n",
      "17/17 [==============================] - 1s 36ms/step - loss: 1.6863 - accuracy: 0.3898 - val_loss: 1.6641 - val_accuracy: 0.4000\n",
      "Epoch 14/100\n",
      "17/17 [==============================] - 1s 36ms/step - loss: 1.6621 - accuracy: 0.4093 - val_loss: 1.6366 - val_accuracy: 0.4250\n",
      "Epoch 15/100\n",
      "17/17 [==============================] - 1s 36ms/step - loss: 1.6334 - accuracy: 0.4380 - val_loss: 1.6029 - val_accuracy: 0.5333\n",
      "Epoch 16/100\n",
      "17/17 [==============================] - 1s 37ms/step - loss: 1.6001 - accuracy: 0.4574 - val_loss: 1.5629 - val_accuracy: 0.5500\n",
      "Epoch 17/100\n",
      "17/17 [==============================] - 1s 37ms/step - loss: 1.5623 - accuracy: 0.4870 - val_loss: 1.5201 - val_accuracy: 0.5583\n",
      "Epoch 18/100\n",
      "17/17 [==============================] - 1s 37ms/step - loss: 1.5208 - accuracy: 0.5157 - val_loss: 1.4752 - val_accuracy: 0.5833\n",
      "Epoch 19/100\n",
      "17/17 [==============================] - 1s 36ms/step - loss: 1.4763 - accuracy: 0.5352 - val_loss: 1.4278 - val_accuracy: 0.5750\n",
      "Epoch 20/100\n",
      "17/17 [==============================] - 1s 36ms/step - loss: 1.4299 - accuracy: 0.5454 - val_loss: 1.3795 - val_accuracy: 0.5667\n",
      "Epoch 21/100\n",
      "17/17 [==============================] - 1s 37ms/step - loss: 1.3825 - accuracy: 0.5509 - val_loss: 1.3333 - val_accuracy: 0.5750\n",
      "Epoch 22/100\n",
      "17/17 [==============================] - 1s 38ms/step - loss: 1.3356 - accuracy: 0.5620 - val_loss: 1.2879 - val_accuracy: 0.5833\n",
      "Epoch 23/100\n",
      "17/17 [==============================] - 1s 37ms/step - loss: 1.2894 - accuracy: 0.5713 - val_loss: 1.2470 - val_accuracy: 0.5583\n",
      "Epoch 24/100\n",
      "17/17 [==============================] - 1s 37ms/step - loss: 1.2437 - accuracy: 0.5843 - val_loss: 1.2061 - val_accuracy: 0.5583\n",
      "Epoch 25/100\n",
      "17/17 [==============================] - 1s 37ms/step - loss: 1.1989 - accuracy: 0.5981 - val_loss: 1.1646 - val_accuracy: 0.5833\n",
      "Epoch 26/100\n",
      "17/17 [==============================] - 1s 39ms/step - loss: 1.1574 - accuracy: 0.6130 - val_loss: 1.1268 - val_accuracy: 0.6083\n",
      "Epoch 27/100\n",
      "17/17 [==============================] - 1s 37ms/step - loss: 1.1209 - accuracy: 0.6176 - val_loss: 1.0948 - val_accuracy: 0.6000\n",
      "Epoch 28/100\n",
      "17/17 [==============================] - 1s 35ms/step - loss: 1.0870 - accuracy: 0.6287 - val_loss: 1.0645 - val_accuracy: 0.6167\n",
      "Epoch 29/100\n",
      "17/17 [==============================] - 1s 37ms/step - loss: 1.0560 - accuracy: 0.6444 - val_loss: 1.0375 - val_accuracy: 0.6250\n",
      "Epoch 30/100\n",
      "17/17 [==============================] - 1s 37ms/step - loss: 1.0285 - accuracy: 0.6537 - val_loss: 1.0128 - val_accuracy: 0.6333\n",
      "Epoch 31/100\n",
      "17/17 [==============================] - 1s 36ms/step - loss: 1.0030 - accuracy: 0.6630 - val_loss: 0.9901 - val_accuracy: 0.6500\n",
      "Epoch 32/100\n",
      "17/17 [==============================] - 1s 36ms/step - loss: 0.9796 - accuracy: 0.6759 - val_loss: 0.9694 - val_accuracy: 0.6583\n",
      "Epoch 33/100\n",
      "17/17 [==============================] - 1s 37ms/step - loss: 0.9583 - accuracy: 0.6843 - val_loss: 0.9497 - val_accuracy: 0.6583\n",
      "Epoch 34/100\n",
      "17/17 [==============================] - 1s 37ms/step - loss: 0.9381 - accuracy: 0.6926 - val_loss: 0.9318 - val_accuracy: 0.6583\n",
      "Epoch 35/100\n",
      "17/17 [==============================] - 1s 37ms/step - loss: 0.9195 - accuracy: 0.7028 - val_loss: 0.9149 - val_accuracy: 0.6667\n",
      "Epoch 36/100\n",
      "17/17 [==============================] - 1s 38ms/step - loss: 0.9018 - accuracy: 0.7065 - val_loss: 0.8991 - val_accuracy: 0.6583\n",
      "Epoch 37/100\n",
      "17/17 [==============================] - 1s 37ms/step - loss: 0.8854 - accuracy: 0.7139 - val_loss: 0.8849 - val_accuracy: 0.6583\n",
      "Epoch 38/100\n",
      "17/17 [==============================] - 1s 36ms/step - loss: 0.8697 - accuracy: 0.7194 - val_loss: 0.8713 - val_accuracy: 0.6667\n",
      "Epoch 39/100\n",
      "17/17 [==============================] - 1s 37ms/step - loss: 0.8552 - accuracy: 0.7278 - val_loss: 0.8588 - val_accuracy: 0.6750\n",
      "Epoch 40/100\n",
      "17/17 [==============================] - 1s 36ms/step - loss: 0.8410 - accuracy: 0.7306 - val_loss: 0.8470 - val_accuracy: 0.6833\n",
      "Epoch 41/100\n",
      "17/17 [==============================] - 1s 35ms/step - loss: 0.8274 - accuracy: 0.7315 - val_loss: 0.8361 - val_accuracy: 0.6833\n",
      "Epoch 42/100\n",
      "17/17 [==============================] - 1s 34ms/step - loss: 0.8148 - accuracy: 0.7352 - val_loss: 0.8254 - val_accuracy: 0.6833\n",
      "Epoch 43/100\n",
      "17/17 [==============================] - 1s 34ms/step - loss: 0.8027 - accuracy: 0.7380 - val_loss: 0.8155 - val_accuracy: 0.6833\n",
      "Epoch 44/100\n",
      "17/17 [==============================] - 1s 34ms/step - loss: 0.7913 - accuracy: 0.7389 - val_loss: 0.8056 - val_accuracy: 0.7000\n",
      "Epoch 45/100\n",
      "17/17 [==============================] - 1s 35ms/step - loss: 0.7802 - accuracy: 0.7417 - val_loss: 0.7959 - val_accuracy: 0.7000\n",
      "Epoch 46/100\n",
      "17/17 [==============================] - 1s 34ms/step - loss: 0.7695 - accuracy: 0.7463 - val_loss: 0.7872 - val_accuracy: 0.7000\n",
      "Epoch 47/100\n",
      "17/17 [==============================] - 1s 35ms/step - loss: 0.7594 - accuracy: 0.7472 - val_loss: 0.7784 - val_accuracy: 0.7167\n",
      "Epoch 48/100\n",
      "17/17 [==============================] - 1s 36ms/step - loss: 0.7496 - accuracy: 0.7528 - val_loss: 0.7700 - val_accuracy: 0.7167\n",
      "Epoch 49/100\n",
      "17/17 [==============================] - 1s 37ms/step - loss: 0.7400 - accuracy: 0.7528 - val_loss: 0.7625 - val_accuracy: 0.7083\n",
      "Epoch 50/100\n",
      "17/17 [==============================] - 1s 38ms/step - loss: 0.7300 - accuracy: 0.7574 - val_loss: 0.7551 - val_accuracy: 0.7083\n",
      "Epoch 51/100\n",
      "17/17 [==============================] - 1s 38ms/step - loss: 0.7202 - accuracy: 0.7565 - val_loss: 0.7470 - val_accuracy: 0.7083\n",
      "Epoch 52/100\n",
      "17/17 [==============================] - 1s 38ms/step - loss: 0.7111 - accuracy: 0.7583 - val_loss: 0.7387 - val_accuracy: 0.7083\n",
      "Epoch 53/100\n",
      "17/17 [==============================] - 1s 38ms/step - loss: 0.7019 - accuracy: 0.7593 - val_loss: 0.7311 - val_accuracy: 0.7083\n",
      "Epoch 54/100\n",
      "17/17 [==============================] - 1s 38ms/step - loss: 0.6925 - accuracy: 0.7667 - val_loss: 0.7233 - val_accuracy: 0.7083\n",
      "Epoch 55/100\n",
      "17/17 [==============================] - 1s 38ms/step - loss: 0.6836 - accuracy: 0.7667 - val_loss: 0.7157 - val_accuracy: 0.7250\n",
      "Epoch 56/100\n",
      "17/17 [==============================] - 1s 37ms/step - loss: 0.6745 - accuracy: 0.7741 - val_loss: 0.7091 - val_accuracy: 0.7333\n",
      "Epoch 57/100\n",
      "17/17 [==============================] - 1s 37ms/step - loss: 0.6670 - accuracy: 0.7741 - val_loss: 0.7025 - val_accuracy: 0.7417\n",
      "Epoch 58/100\n",
      "17/17 [==============================] - 1s 40ms/step - loss: 0.6582 - accuracy: 0.7778 - val_loss: 0.6953 - val_accuracy: 0.7500\n",
      "Epoch 59/100\n",
      "17/17 [==============================] - 1s 38ms/step - loss: 0.6511 - accuracy: 0.7796 - val_loss: 0.6891 - val_accuracy: 0.7583\n",
      "Epoch 60/100\n",
      "17/17 [==============================] - 1s 41ms/step - loss: 0.6426 - accuracy: 0.7889 - val_loss: 0.6820 - val_accuracy: 0.7667\n",
      "Epoch 61/100\n",
      "17/17 [==============================] - 1s 38ms/step - loss: 0.6357 - accuracy: 0.7898 - val_loss: 0.6762 - val_accuracy: 0.7667\n",
      "Epoch 62/100\n",
      "17/17 [==============================] - 1s 37ms/step - loss: 0.6279 - accuracy: 0.7944 - val_loss: 0.6697 - val_accuracy: 0.7667\n",
      "Epoch 63/100\n",
      "17/17 [==============================] - 1s 38ms/step - loss: 0.6215 - accuracy: 0.8028 - val_loss: 0.6644 - val_accuracy: 0.7667\n",
      "Epoch 64/100\n",
      "17/17 [==============================] - 1s 34ms/step - loss: 0.6143 - accuracy: 0.8065 - val_loss: 0.6580 - val_accuracy: 0.7667\n",
      "Epoch 65/100\n",
      "17/17 [==============================] - 1s 36ms/step - loss: 0.6081 - accuracy: 0.8083 - val_loss: 0.6527 - val_accuracy: 0.7667\n",
      "Epoch 66/100\n",
      "17/17 [==============================] - 1s 40ms/step - loss: 0.6007 - accuracy: 0.8102 - val_loss: 0.6468 - val_accuracy: 0.7667\n",
      "Epoch 67/100\n",
      "17/17 [==============================] - 1s 35ms/step - loss: 0.5948 - accuracy: 0.8111 - val_loss: 0.6414 - val_accuracy: 0.7833\n",
      "Epoch 68/100\n",
      "17/17 [==============================] - 1s 38ms/step - loss: 0.5881 - accuracy: 0.8102 - val_loss: 0.6366 - val_accuracy: 0.7833\n",
      "Epoch 69/100\n",
      "17/17 [==============================] - 1s 37ms/step - loss: 0.5822 - accuracy: 0.8120 - val_loss: 0.6320 - val_accuracy: 0.7833\n",
      "Epoch 70/100\n",
      "17/17 [==============================] - 1s 37ms/step - loss: 0.5759 - accuracy: 0.8148 - val_loss: 0.6266 - val_accuracy: 0.7833\n",
      "Epoch 71/100\n",
      "17/17 [==============================] - 1s 37ms/step - loss: 0.5706 - accuracy: 0.8157 - val_loss: 0.6223 - val_accuracy: 0.7917\n",
      "Epoch 72/100\n",
      "17/17 [==============================] - 1s 37ms/step - loss: 0.5646 - accuracy: 0.8185 - val_loss: 0.6178 - val_accuracy: 0.8000\n",
      "Epoch 73/100\n",
      "17/17 [==============================] - 1s 41ms/step - loss: 0.5592 - accuracy: 0.8269 - val_loss: 0.6130 - val_accuracy: 0.8000\n",
      "Epoch 74/100\n",
      "17/17 [==============================] - 1s 41ms/step - loss: 0.5533 - accuracy: 0.8296 - val_loss: 0.6086 - val_accuracy: 0.8000\n",
      "Epoch 75/100\n",
      "17/17 [==============================] - 1s 43ms/step - loss: 0.5476 - accuracy: 0.8315 - val_loss: 0.6036 - val_accuracy: 0.8000\n",
      "Epoch 76/100\n",
      "17/17 [==============================] - 1s 38ms/step - loss: 0.5424 - accuracy: 0.8352 - val_loss: 0.5991 - val_accuracy: 0.8000\n",
      "Epoch 77/100\n",
      "17/17 [==============================] - 1s 37ms/step - loss: 0.5370 - accuracy: 0.8361 - val_loss: 0.5942 - val_accuracy: 0.8000\n",
      "Epoch 78/100\n",
      "17/17 [==============================] - 1s 36ms/step - loss: 0.5318 - accuracy: 0.8380 - val_loss: 0.5902 - val_accuracy: 0.8083\n",
      "Epoch 79/100\n",
      "17/17 [==============================] - 1s 37ms/step - loss: 0.5266 - accuracy: 0.8389 - val_loss: 0.5859 - val_accuracy: 0.8083\n",
      "Epoch 80/100\n",
      "17/17 [==============================] - 1s 37ms/step - loss: 0.5214 - accuracy: 0.8417 - val_loss: 0.5816 - val_accuracy: 0.8083\n",
      "Epoch 81/100\n",
      "17/17 [==============================] - 1s 37ms/step - loss: 0.5165 - accuracy: 0.8426 - val_loss: 0.5775 - val_accuracy: 0.8167\n",
      "Epoch 82/100\n",
      "17/17 [==============================] - 1s 40ms/step - loss: 0.5118 - accuracy: 0.8472 - val_loss: 0.5743 - val_accuracy: 0.8167\n",
      "Epoch 83/100\n",
      "17/17 [==============================] - 1s 42ms/step - loss: 0.5075 - accuracy: 0.8463 - val_loss: 0.5708 - val_accuracy: 0.8167\n",
      "Epoch 84/100\n",
      "17/17 [==============================] - 1s 43ms/step - loss: 0.5027 - accuracy: 0.8454 - val_loss: 0.5666 - val_accuracy: 0.8167\n",
      "Epoch 85/100\n",
      "17/17 [==============================] - 1s 39ms/step - loss: 0.4981 - accuracy: 0.8491 - val_loss: 0.5649 - val_accuracy: 0.8000\n",
      "Epoch 86/100\n",
      "17/17 [==============================] - 1s 38ms/step - loss: 0.4921 - accuracy: 0.8491 - val_loss: 0.5623 - val_accuracy: 0.8167\n",
      "Epoch 87/100\n",
      "17/17 [==============================] - 1s 37ms/step - loss: 0.4860 - accuracy: 0.8537 - val_loss: 0.5603 - val_accuracy: 0.8000\n",
      "Epoch 88/100\n",
      "17/17 [==============================] - 1s 37ms/step - loss: 0.4797 - accuracy: 0.8583 - val_loss: 0.5540 - val_accuracy: 0.8083\n",
      "Epoch 89/100\n",
      "17/17 [==============================] - 1s 36ms/step - loss: 0.4742 - accuracy: 0.8583 - val_loss: 0.5488 - val_accuracy: 0.8000\n",
      "Epoch 90/100\n",
      "17/17 [==============================] - 1s 37ms/step - loss: 0.4687 - accuracy: 0.8583 - val_loss: 0.5450 - val_accuracy: 0.8000\n",
      "Epoch 91/100\n",
      "17/17 [==============================] - 1s 41ms/step - loss: 0.4635 - accuracy: 0.8583 - val_loss: 0.5399 - val_accuracy: 0.8000\n",
      "Epoch 92/100\n",
      "17/17 [==============================] - 1s 41ms/step - loss: 0.4584 - accuracy: 0.8611 - val_loss: 0.5353 - val_accuracy: 0.8083\n",
      "Epoch 93/100\n",
      "17/17 [==============================] - 1s 41ms/step - loss: 0.4534 - accuracy: 0.8630 - val_loss: 0.5307 - val_accuracy: 0.8083\n",
      "Epoch 94/100\n",
      "17/17 [==============================] - 1s 40ms/step - loss: 0.4488 - accuracy: 0.8630 - val_loss: 0.5271 - val_accuracy: 0.8083\n",
      "Epoch 95/100\n",
      "17/17 [==============================] - 1s 37ms/step - loss: 0.4442 - accuracy: 0.8667 - val_loss: 0.5240 - val_accuracy: 0.8083\n",
      "Epoch 96/100\n",
      "17/17 [==============================] - 1s 37ms/step - loss: 0.4398 - accuracy: 0.8648 - val_loss: 0.5201 - val_accuracy: 0.8083\n",
      "Epoch 97/100\n",
      "17/17 [==============================] - 1s 39ms/step - loss: 0.4355 - accuracy: 0.8676 - val_loss: 0.5173 - val_accuracy: 0.8167\n",
      "Epoch 98/100\n",
      "17/17 [==============================] - 1s 37ms/step - loss: 0.4311 - accuracy: 0.8694 - val_loss: 0.5135 - val_accuracy: 0.8167\n",
      "Epoch 99/100\n",
      "17/17 [==============================] - 1s 38ms/step - loss: 0.4271 - accuracy: 0.8741 - val_loss: 0.5106 - val_accuracy: 0.8167\n",
      "Epoch 100/100\n",
      "17/17 [==============================] - 1s 40ms/step - loss: 0.4228 - accuracy: 0.8741 - val_loss: 0.5082 - val_accuracy: 0.8167\n"
     ]
    }
   ],
   "source": [
    "train_dataset = tf.data.Dataset.from_tensor_slices((X_train, Y_train)).batch(64)\n",
    "test_dataset = tf.data.Dataset.from_tensor_slices((X_test, Y_test)).batch(64)\n",
    "\n",
    "history = conv_model.fit(train_dataset, epochs=100, validation_data=test_dataset)"
   ]
  },
  {
   "cell_type": "code",
   "execution_count": 7,
   "metadata": {},
   "outputs": [
    {
     "name": "stdout",
     "output_type": "stream",
     "text": [
      "dict_keys(['loss', 'accuracy', 'val_loss', 'val_accuracy'])\n"
     ]
    }
   ],
   "source": [
    "print (history.history.keys())"
   ]
  },
  {
   "cell_type": "code",
   "execution_count": 8,
   "metadata": {},
   "outputs": [
    {
     "data": {
      "image/png": "[encoded data removed]",
      "text/plain": [
       "<Figure size 432x288 with 1 Axes>"
      ]
     },
     "metadata": {
      "needs_background": "light"
     },
     "output_type": "display_data"
    }
   ],
   "source": [
    "plt.plot(history.history['accuracy'])\n",
    "plt.plot(history.history['val_accuracy'])\n",
    "plt.title('model accuracy')\n",
    "plt.ylabel('accuracy')\n",
    "plt.xlabel('epoch')\n",
    "plt.legend(['train', 'test'], loc='upper left')\n",
    "plt.show()"
   ]
  },
  {
   "cell_type": "code",
   "execution_count": 9,
   "metadata": {},
   "outputs": [
    {
     "data": {
      "image/png": "[encoded data removed]",
      "text/plain": [
       "<Figure size 432x288 with 1 Axes>"
      ]
     },
     "metadata": {
      "needs_background": "light"
     },
     "output_type": "display_data"
    }
   ],
   "source": [
    "plt.plot(history.history['loss'])\n",
    "plt.plot(history.history['val_loss'])\n",
    "plt.title('model loss')\n",
    "plt.ylabel('loss')\n",
    "plt.xlabel('epoch')\n",
    "plt.legend(['train', 'test'], loc='upper left')\n",
    "plt.show()"
   ]
  },
  {
   "cell_type": "code",
   "execution_count": 10,
   "metadata": {},
   "outputs": [
    {
     "name": "stdout",
     "output_type": "stream",
     "text": [
      "4/4 [==============================] - 0s 11ms/step - loss: 0.5082 - accuracy: 0.8167\n"
     ]
    },
    {
     "data": {
      "text/plain": [
       "[0.508169412612915, 0.8166666626930237]"
      ]
     },
     "execution_count": 10,
     "metadata": {},
     "output_type": "execute_result"
    }
   ],
   "source": [
    "conv_model.evaluate(X_test,Y_test)"
   ]
  },
  {
   "cell_type": "code",
   "execution_count": 11,
   "metadata": {},
   "outputs": [],
   "source": [
    "y_pred = conv_model.predict(X_test)\n",
    "y_classes = [np.argmax(element) for element in y_pred]      # ~ softmax...\n",
    "# print(y_classes)"
   ]
  },
  {
   "cell_type": "code",
   "execution_count": 12,
   "metadata": {},
   "outputs": [],
   "source": [
    "def plot_sample(X, y, index):\n",
    "    plt.figure(figsize = (15,2))\n",
    "    plt.imshow(X[index])\n",
    "    plt.xlabel(y_classes[index])"
   ]
  },
  {
   "cell_type": "code",
   "execution_count": 13,
   "metadata": {},
   "outputs": [
    {
     "data": {
      "image/png": "[encoded data removed]",
      "text/plain": [
       "<Figure size 1080x144 with 1 Axes>"
      ]
     },
     "metadata": {
      "needs_background": "light"
     },
     "output_type": "display_data"
    }
   ],
   "source": [
    "# Example\n",
    "plot_sample(X_test, Y_test, 21)"
   ]
  }
 ],
 "metadata": {
  "coursera": {
   "course_slug": "convolutional-neural-networks",
   "graded_item_id": "bwbJV",
   "launcher_item_id": "0TkXB"
  },
  "kernelspec": {
   "display_name": "Python 3",
   "language": "python",
   "name": "python3"
  },
  "language_info": {
   "codemirror_mode": {
    "name": "ipython",
    "version": 3
   },
   "file_extension": ".py",
   "mimetype": "text/x-python",
   "name": "python",
   "nbconvert_exporter": "python",
   "pygments_lexer": "ipython3",
   "version": "3.9.4"
  }
 },
 "nbformat": 4,
 "nbformat_minor": 2
}
