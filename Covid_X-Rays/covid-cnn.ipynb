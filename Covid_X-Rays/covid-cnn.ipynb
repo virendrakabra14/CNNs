{
 "cells": [
  {
   "cell_type": "markdown",
   "metadata": {},
   "source": [
    "# Covid-19 detection using a CNN"
   ]
  },
  {
   "cell_type": "markdown",
   "metadata": {},
   "source": [
    "### 1. Packages"
   ]
  },
  {
   "cell_type": "code",
   "execution_count": 39,
   "metadata": {},
   "outputs": [],
   "source": [
    "import numpy as np\n",
    "import matplotlib.pyplot as plt\n",
    "import keras\n",
    "from keras.layers import *\n",
    "from keras.models import * \n",
    "from keras.preprocessing import image\n",
    "import os"
   ]
  },
  {
   "cell_type": "code",
   "execution_count": 40,
   "metadata": {},
   "outputs": [],
   "source": [
    "# Rename files (once done, not needed)\n",
    "\n",
    "paths = [\"./Dataset/0_Training/Covid\", \"./Dataset/0_Training/NotCovid\", \"./Dataset/1_Test/Covid\", \"./Dataset/1_Test/NotCovid\"]\n",
    "\n",
    "# for path in paths:\n",
    "#     for i,f in enumerate(os.listdir(path)):\n",
    "#         # print (i, f)\n",
    "#         os.rename (path+\"/\"+f, path+\"/\"+str(i)+os.path.splitext(f)[1])"
   ]
  },
  {
   "cell_type": "markdown",
   "metadata": {},
   "source": [
    "### 2. CNN Model using the Sequential API\n",
    "<ul>\n",
    "<li>Since we have a single input & output scheme (linear topology), the Sequential API suffices</li>\n",
    "</ul>"
   ]
  },
  {
   "cell_type": "code",
   "execution_count": 22,
   "metadata": {},
   "outputs": [],
   "source": [
    "model = Sequential()\n",
    "\n",
    "model.add (Conv2D (32, kernel_size=(3,3), activation='relu', input_shape=(224,224,3)))\n",
    "model.add (Conv2D (64, (3,3), activation='relu'))\n",
    "model.add (MaxPooling2D (pool_size=(2,2)))          # max pool\n",
    "model.add (Dropout (0.25))                          # dropout regularization (prevents overfitting)\n",
    "\n",
    "model.add (Conv2D (64, (3,3), activation='relu'))\n",
    "model.add (MaxPooling2D (pool_size=(2,2)))\n",
    "model.add (Dropout (0.25))\n",
    "\n",
    "model.add (Conv2D (128, (3,3), activation='relu'))\n",
    "model.add (MaxPooling2D (pool_size=(2,2)))\n",
    "model.add (Dropout (0.25))\n",
    "\n",
    "model.add (Flatten())\n",
    "model.add (Dense (64, activation='relu'))\n",
    "model.add (Dropout (0.5))\n",
    "model.add (Dense (1, activation='sigmoid'))\n",
    "\n",
    "# metric used is \"accuracy\" (of prediction on the datasets)\n",
    "# \"binary\" crossentropy, as we have 2 classes\n",
    "model.compile(loss=keras.losses.binary_crossentropy, optimizer='adam', metrics=['accuracy'])"
   ]
  },
  {
   "cell_type": "code",
   "execution_count": 23,
   "metadata": {},
   "outputs": [
    {
     "name": "stdout",
     "output_type": "stream",
     "text": [
      "Model: \"sequential_1\"\n",
      "_________________________________________________________________\n",
      " Layer (type)                Output Shape              Param #   \n",
      "=================================================================\n",
      " conv2d_4 (Conv2D)           (None, 222, 222, 32)      896       \n",
      "                                                                 \n",
      " conv2d_5 (Conv2D)           (None, 220, 220, 64)      18496     \n",
      "                                                                 \n",
      " max_pooling2d_3 (MaxPooling  (None, 110, 110, 64)     0         \n",
      " 2D)                                                             \n",
      "                                                                 \n",
      " dropout_4 (Dropout)         (None, 110, 110, 64)      0         \n",
      "                                                                 \n",
      " conv2d_6 (Conv2D)           (None, 108, 108, 64)      36928     \n",
      "                                                                 \n",
      " max_pooling2d_4 (MaxPooling  (None, 54, 54, 64)       0         \n",
      " 2D)                                                             \n",
      "                                                                 \n",
      " dropout_5 (Dropout)         (None, 54, 54, 64)        0         \n",
      "                                                                 \n",
      " conv2d_7 (Conv2D)           (None, 52, 52, 128)       73856     \n",
      "                                                                 \n",
      " max_pooling2d_5 (MaxPooling  (None, 26, 26, 128)      0         \n",
      " 2D)                                                             \n",
      "                                                                 \n",
      " dropout_6 (Dropout)         (None, 26, 26, 128)       0         \n",
      "                                                                 \n",
      " flatten_1 (Flatten)         (None, 86528)             0         \n",
      "                                                                 \n",
      " dense_2 (Dense)             (None, 64)                5537856   \n",
      "                                                                 \n",
      " dropout_7 (Dropout)         (None, 64)                0         \n",
      "                                                                 \n",
      " dense_3 (Dense)             (None, 1)                 65        \n",
      "                                                                 \n",
      "=================================================================\n",
      "Total params: 5,668,097\n",
      "Trainable params: 5,668,097\n",
      "Non-trainable params: 0\n",
      "_________________________________________________________________\n"
     ]
    }
   ],
   "source": [
    "model.summary()"
   ]
  },
  {
   "cell_type": "markdown",
   "metadata": {},
   "source": [
    "### 3. Train"
   ]
  },
  {
   "cell_type": "code",
   "execution_count": 24,
   "metadata": {},
   "outputs": [],
   "source": [
    "# horizontal flip -- data augmentation applied to the training data\n",
    "train_genr = image.ImageDataGenerator (rescale = 1./255, shear_range = 0.2, zoom_range = 0.2, horizontal_flip = True)\n",
    "test_genr = image.ImageDataGenerator(rescale=1./255)"
   ]
  },
  {
   "cell_type": "code",
   "execution_count": 27,
   "metadata": {},
   "outputs": [
    {
     "name": "stdout",
     "output_type": "stream",
     "text": [
      "Found 224 images belonging to 2 classes.\n"
     ]
    },
    {
     "data": {
      "text/plain": [
       "{'Covid': 0, 'NotCovid': 1}"
      ]
     },
     "execution_count": 27,
     "metadata": {},
     "output_type": "execute_result"
    }
   ],
   "source": [
    "train_generator = train_genr.flow_from_directory ('./Dataset/0_Training', target_size = (224,224), batch_size = 32, class_mode = 'binary')\n",
    "train_generator.class_indices"
   ]
  },
  {
   "cell_type": "code",
   "execution_count": 28,
   "metadata": {},
   "outputs": [
    {
     "name": "stdout",
     "output_type": "stream",
     "text": [
      "Found 60 images belonging to 2 classes.\n"
     ]
    },
    {
     "data": {
      "text/plain": [
       "{'Covid': 0, 'NotCovid': 1}"
      ]
     },
     "execution_count": 28,
     "metadata": {},
     "output_type": "execute_result"
    }
   ],
   "source": [
    "test_generator = test_genr.flow_from_directory ('./Dataset/1_Test', target_size = (224,224), batch_size = 32, class_mode = 'binary')\n",
    "test_generator.class_indices"
   ]
  },
  {
   "cell_type": "code",
   "execution_count": 32,
   "metadata": {},
   "outputs": [
    {
     "name": "stdout",
     "output_type": "stream",
     "text": [
      "Epoch 1/10\n",
      "5/5 [==============================] - 26s 5s/step - loss: 0.4343 - accuracy: 0.8313 - val_loss: 0.2937 - val_accuracy: 0.9333\n",
      "Epoch 2/10\n",
      "5/5 [==============================] - 23s 5s/step - loss: 0.2705 - accuracy: 0.8813 - val_loss: 0.2413 - val_accuracy: 0.9667\n",
      "Epoch 3/10\n",
      "5/5 [==============================] - 26s 5s/step - loss: 0.2650 - accuracy: 0.9062 - val_loss: 0.1511 - val_accuracy: 0.9500\n",
      "Epoch 4/10\n",
      "5/5 [==============================] - 27s 5s/step - loss: 0.2185 - accuracy: 0.9062 - val_loss: 0.2203 - val_accuracy: 0.9667\n",
      "Epoch 5/10\n",
      "5/5 [==============================] - 24s 4s/step - loss: 0.2651 - accuracy: 0.9125 - val_loss: 0.1479 - val_accuracy: 0.9833\n",
      "Epoch 6/10\n",
      "5/5 [==============================] - 28s 5s/step - loss: 0.1892 - accuracy: 0.9375 - val_loss: 0.1095 - val_accuracy: 0.9833\n",
      "Epoch 7/10\n",
      "5/5 [==============================] - 32s 6s/step - loss: 0.1022 - accuracy: 0.9500 - val_loss: 0.0722 - val_accuracy: 0.9667\n",
      "Epoch 8/10\n",
      "5/5 [==============================] - 31s 6s/step - loss: 0.0829 - accuracy: 0.9688 - val_loss: 0.0535 - val_accuracy: 1.0000\n",
      "Epoch 9/10\n",
      "5/5 [==============================] - 29s 6s/step - loss: 0.0804 - accuracy: 0.9688 - val_loss: 0.0498 - val_accuracy: 0.9833\n",
      "Epoch 10/10\n",
      "5/5 [==============================] - 27s 5s/step - loss: 0.1337 - accuracy: 0.9563 - val_loss: 0.0451 - val_accuracy: 0.9833\n"
     ]
    }
   ],
   "source": [
    "# fit_generator used in case entire data can't fit inside RAM, or when data has been augmented\n",
    "history = model.fit (train_generator, steps_per_epoch=5, epochs = 10, validation_data = test_generator, validation_steps=2)"
   ]
  },
  {
   "cell_type": "code",
   "execution_count": 33,
   "metadata": {},
   "outputs": [],
   "source": [
    "model.save('model_cnn.h5')"
   ]
  },
  {
   "cell_type": "code",
   "execution_count": 36,
   "metadata": {},
   "outputs": [
    {
     "name": "stdout",
     "output_type": "stream",
     "text": [
      "7/7 [==============================] - 15s 2s/step - loss: 0.0920 - accuracy: 0.9643\n"
     ]
    },
    {
     "data": {
      "text/plain": [
       "[0.09199760109186172, 0.9642857313156128]"
      ]
     },
     "execution_count": 36,
     "metadata": {},
     "output_type": "execute_result"
    }
   ],
   "source": [
    "model.evaluate(train_generator)"
   ]
  },
  {
   "cell_type": "code",
   "execution_count": 37,
   "metadata": {},
   "outputs": [
    {
     "name": "stdout",
     "output_type": "stream",
     "text": [
      "2/2 [==============================] - 4s 2s/step - loss: 0.0451 - accuracy: 0.9833\n"
     ]
    },
    {
     "data": {
      "text/plain": [
       "[0.04513062536716461, 0.9833333492279053]"
      ]
     },
     "execution_count": 37,
     "metadata": {},
     "output_type": "execute_result"
    }
   ],
   "source": [
    "model.evaluate(test_generator)"
   ]
  },
  {
   "cell_type": "markdown",
   "metadata": {},
   "source": [
    "### 4. Test"
   ]
  },
  {
   "cell_type": "code",
   "execution_count": 80,
   "metadata": {},
   "outputs": [],
   "source": [
    "myModel = load_model ('model_cnn.h5')"
   ]
  },
  {
   "cell_type": "code",
   "execution_count": 87,
   "metadata": {},
   "outputs": [
    {
     "name": "stdout",
     "output_type": "stream",
     "text": [
      "Total:  60 \tWrong:  2\n"
     ]
    }
   ],
   "source": [
    "y_actual = []\n",
    "y_test = []\n",
    "\n",
    "for i in os.listdir(paths[3]):                  # \"./Dataset/1_Test/NotCovid/\"\n",
    "    img = image.load_img (paths[3]+\"/\"+i, target_size=(224,224))\n",
    "    img = image.img_to_array (img)\n",
    "    img = np.expand_dims (img, axis=0)\n",
    "    y_pred = np.round(myModel.predict(img)).astype(int)\n",
    "    y_test.append (y_pred[0,0])\n",
    "    y_actual.append (1)                         # 'actual' is '1', i.e. 'NotCovid'\n",
    "\n",
    "for i in os.listdir(paths[2]):                  # \"./Dataset/1_Test/Covid/\"\n",
    "    img = image.load_img(paths[2]+\"/\"+i, target_size=(224,224))\n",
    "    img = image.img_to_array (img)\n",
    "    img = np.expand_dims (img, axis=0)\n",
    "    y_pred = np.round(myModel.predict(img)).astype(int)\n",
    "    y_test.append (y_pred[0,0])\n",
    "    y_actual.append(0)                          # 'actual' is '0', i.e. 'Covid'\n",
    "\n",
    "total = len(y_test)\n",
    "wrong = 0\n",
    "for i in range(total):\n",
    "    if (y_test[i] != y_actual[i]):\n",
    "        wrong += 1\n",
    "print('Total: ', total, '\\tWrong: ', wrong)"
   ]
  },
  {
   "cell_type": "markdown",
   "metadata": {},
   "source": [
    "### 5. Confusion Matrix\n",
    "\n",
    "<table>\n",
    "    <tr>\n",
    "        <td style=\"padding:30px;\">True Positives</td>\n",
    "        <td style=\"padding:30px;\">False Negatives</td>\n",
    "    </tr>\n",
    "    <tr>\n",
    "        <td style=\"padding:30px;\">False Positives</td>\n",
    "        <td style=\"padding:30px;\">True Negatives</td>\n",
    "    </tr>\n",
    "</table>\n",
    "\n",
    "<ul>\n",
    "    <li>True Positives (Negatives) : Actual positive (negative), and predicted positive (negative)\n",
    "    <li>False Positives (Negatives) : Actual negative (positive), but predicted positive (negative)\n",
    "</ul>"
   ]
  },
  {
   "cell_type": "code",
   "execution_count": 82,
   "metadata": {},
   "outputs": [],
   "source": [
    "from sklearn.metrics import confusion_matrix\n",
    "import seaborn as sns"
   ]
  },
  {
   "cell_type": "code",
   "execution_count": 85,
   "metadata": {},
   "outputs": [
    {
     "data": {
      "text/plain": [
       "Text(0.5, 1.0, 'Confusion Matrix\\n')"
      ]
     },
     "execution_count": 85,
     "metadata": {},
     "output_type": "execute_result"
    },
    {
     "data": {
      "image/png": "[encoded data removed]",
      "text/plain": [
       "<Figure size 432x288 with 2 Axes>"
      ]
     },
     "metadata": {
      "needs_background": "light"
     },
     "output_type": "display_data"
    }
   ],
   "source": [
    "y_actual = np.array(y_actual)\n",
    "y_test = np.array(y_test)\n",
    "conf_mat = confusion_matrix (y_actual, y_test)\n",
    "ax = sns.heatmap (conf_mat, cmap='plasma', annot=True)\n",
    "ax.set_title (\"Confusion Matrix\\n\")"
   ]
  },
  {
   "cell_type": "markdown",
   "metadata": {},
   "source": [
    "### 6. Custom Test Image"
   ]
  },
  {
   "cell_type": "code",
   "execution_count": 97,
   "metadata": {},
   "outputs": [
    {
     "data": {
      "image/png": "[encoded data removed]",
      "text/plain": [
       "<Figure size 432x288 with 1 Axes>"
      ]
     },
     "metadata": {
      "needs_background": "light"
     },
     "output_type": "display_data"
    }
   ],
   "source": [
    "filepath = './test_image.jpeg'                          # put the test image's path, name, and extension\n",
    "img = image.load_img (filepath, target_size=(224,224))\n",
    "plt.imshow(img)\n",
    "img = image.img_to_array (img)\n",
    "img = np.expand_dims (img, axis=0)\n",
    "y_pred = np.round(myModel.predict(img)).astype(int)[0,0]\n",
    "if y_pred==0:\n",
    "    plt.title(\"Covid\")\n",
    "else:\n",
    "    plt.title(\"Not Covid\")"
   ]
  }
 ],
 "metadata": {
  "interpreter": {
   "hash": "45d3a30ac4df3c2b63fb744a1e03b67365dff75088c46024ed5d013542c29b80"
  },
  "kernelspec": {
   "display_name": "Python 3.9.4 64-bit",
   "language": "python",
   "name": "python3"
  },
  "language_info": {
   "codemirror_mode": {
    "name": "ipython",
    "version": 3
   },
   "file_extension": ".py",
   "mimetype": "text/x-python",
   "name": "python",
   "nbconvert_exporter": "python",
   "pygments_lexer": "ipython3",
   "version": "3.9.4"
  },
  "orig_nbformat": 4
 },
 "nbformat": 4,
 "nbformat_minor": 2
}
